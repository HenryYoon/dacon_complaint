{
 "cells": [
  {
   "cell_type": "code",
   "execution_count": 1,
   "metadata": {},
   "outputs": [],
   "source": [
    "from tqdm import tqdm\n",
    "import pandas as pd\n",
    "import numpy as np\n",
    "from scipy.stats import randint, uniform \n",
    "\n",
    "from catboost import CatBoostClassifier\n",
    "from xgboost import XGBClassifier, XGBRFClassifier\n",
    "from sklearn.ensemble import StackingClassifier, VotingClassifier, ExtraTreesClassifier\n",
    "\n",
    "from sklearn.model_selection import RandomizedSearchCV, train_test_split, cross_val_score"
   ]
  },
  {
   "cell_type": "code",
   "execution_count": null,
   "metadata": {},
   "outputs": [],
   "source": [
    "train_err = pd.read_csv('./data1/train_err_data.csv')\n",
    "train_qual = pd.read_csv('./data1/train_quality_data.csv')\n",
    "train_prob = pd.read_csv('./data1/train_problem_data.csv')\n",
    "\n",
    "test_err = pd.read_csv('./data1/test_err_data.csv')\n",
    "test_qual = pd.read_csv('./data1/test_quality_data.csv')\n",
    "\n",
    "sub = pd.read_csv('./data1/sample_submission.csv')"
   ]
  },
  {
   "cell_type": "code",
   "execution_count": null,
   "metadata": {},
   "outputs": [],
   "source": [
    "#train data\n",
    "id_error = train_err[['user_id','errtype']].values\n",
    "error = np.zeros((15000, 42))\n",
    "prob = np.zeros(15000)\n",
    "\n",
    "for person_idx, err in tqdm(id_error):\n",
    "    error[person_idx - 10000, err-1] +=1\n",
    "\n",
    "prob[train_prob.user_id.unique()-10000] = 1\n",
    "\n",
    "np.save('./data/X_train.npy', error)\n",
    "np.save('./data/y_train.npy', prob)\n",
    "\n",
    "#test data\n",
    "id_error = test_err[['user_id','errtype']].values\n",
    "error = np.zeros((14999,42))\n",
    "for person_idx, err in tqdm(id_error):\n",
    "    error[person_idx - 30000,err - 1] += 1\n",
    "\n",
    "np.save('./data/X_test.npy', error)"
   ]
  },
  {
   "cell_type": "code",
   "execution_count": 2,
   "metadata": {},
   "outputs": [],
   "source": [
    "X = np.load('data/X_train.npy')\n",
    "y = np.load('data/y_train.npy')\n",
    "X_test = np.load('data/X_test.npy')\n",
    "\n",
    "sub = pd.read_csv('./data1/sample_submission.csv')\n",
    "\n",
    "X_train, X_val, y_train, y_val = train_test_split(X, y, test_size=0.3)"
   ]
  },
  {
   "cell_type": "code",
   "execution_count": null,
   "metadata": {
    "tags": []
   },
   "outputs": [],
   "source": [
    "params = {\"max_depth\": randint(5, 15),\n",
    "        \"learning_rate\": uniform(loc = 0.005, scale = 0.2),}\n",
    "\n",
    "clf1 = CatBoostClassifier(task_type='GPU',\n",
    "                        verbose=0,\n",
    "                        n_estimators=200)\n",
    "clf1 = RandomizedSearchCV(clf1, \n",
    "                        param_distributions=params, \n",
    "                        cv=5, \n",
    "                        scoring='roc_auc')\n",
    "clf1.fit(X_train,y_train)\n",
    "\n",
    "np.mean(cross_val_score(clf1, X_val, y_val, cv=5, scoring='roc_auc'))"
   ]
  },
  {
   "cell_type": "code",
   "execution_count": null,
   "metadata": {},
   "outputs": [],
   "source": [
    "params = {\"max_depth\": randint(10, 25),\n",
    "        \"learning_rate\": uniform(loc = 0.005, scale = 0.2),\n",
    "        \"gamma\": uniform(loc = 0., scale = 0.2),\n",
    "        \"subsample\": uniform(loc = 0.4, scale = 0.8),\n",
    "        \"colsample_bytree\": uniform(loc = 0.4, scale = 0.8),\n",
    "        \"min_child_weight\": [3],\n",
    "        \"silent\": [True]}\n",
    "\n",
    "clf2 = XGBClassifier(eval_metric='auc',\n",
    "                    tree_method='gpu_hist',\n",
    "                    n_estimators=200)\n",
    "clf2 = RandomizedSearchCV(clf2, \n",
    "                        param_distributions=params, \n",
    "                        cv=5, \n",
    "                        scoring='roc_auc')\n",
    "clf2.fit(X_train, y_train)\n",
    "\n",
    "np.mean(cross_val_score(clf2, X_val, y_val, cv=5, scoring='roc_auc'))"
   ]
  },
  {
   "cell_type": "code",
   "execution_count": null,
   "metadata": {},
   "outputs": [],
   "source": [
    "params = {\"max_depth\": randint(10, 25),\n",
    "        \"learning_rate\": uniform(loc = 0.005, scale = 0.2),\n",
    "        \"gamma\": uniform(loc = 0., scale = 0.2),\n",
    "        \"subsample\": uniform(loc = 0.4, scale = 0.8),\n",
    "        \"colsample_bytree\": uniform(loc = 0.4, scale = 0.8),\n",
    "        \"min_child_weight\": [3],\n",
    "        \"silent\": [True]}\n",
    "\n",
    "clf3 = XGBRFClassifier(eval_metric='auc',\n",
    "                    tree_method='gpu_hist',\n",
    "                    n_estimators=200)\n",
    "clf3 = RandomizedSearchCV(clf3, \n",
    "                        param_distributions=params, \n",
    "                        cv=5, \n",
    "                        scoring='roc_auc')\n",
    "clf3.fit(X_train,y_train)\n",
    "\n",
    "np.mean(cross_val_score(clf3, X_val, y_val, cv=5, scoring='roc_auc'))"
   ]
  },
  {
   "cell_type": "code",
   "execution_count": null,
   "metadata": {},
   "outputs": [],
   "source": [
    "clf = StackingClassifier(\n",
    "    estimators=[('cat',clf1),('xg',clf2),('xgrf',clf3)],\n",
    "    final_estimator=ExtraTreesClassifier())\n",
    "clf.fit(X_train, y_train)\n",
    "\n",
    "np.mean(cross_val_score(clf, X_val, y_val, scoring='roc_auc'))"
   ]
  },
  {
   "cell_type": "code",
   "execution_count": null,
   "metadata": {},
   "outputs": [],
   "source": [
    "y_pred = clf.predict_proba(test)\n",
    "sub['problem'] = y_pred[:,1]\n",
    "sub.to_csv('sub1.csv',index=False)"
   ]
  }
 ],
 "metadata": {
  "interpreter": {
   "hash": "06c3b654b2368c0d3a0a352a86a9033c860a40d2de57a44416c4c21fc7af82a3"
  },
  "kernelspec": {
   "display_name": "Python 3.9.7 64-bit ('yunihg': conda)",
   "name": "python3"
  },
  "language_info": {
   "codemirror_mode": {
    "name": "ipython",
    "version": 3
   },
   "file_extension": ".py",
   "mimetype": "text/x-python",
   "name": "python",
   "nbconvert_exporter": "python",
   "pygments_lexer": "ipython3",
   "version": "3.9.7"
  },
  "orig_nbformat": 2
 },
 "nbformat": 4,
 "nbformat_minor": 2
}
